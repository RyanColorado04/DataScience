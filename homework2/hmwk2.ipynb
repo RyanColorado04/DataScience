{
 "cells": [
  {
   "cell_type": "markdown",
   "metadata": {},
   "source": [
    "# CSCI 3022 Homework\n",
    "<figure>\n",
    "  <IMG SRC=\"https://www.colorado.edu/cs/profiles/express/themes/cuspirit/logo.png\" WIDTH=50 ALIGN=\"right\">\n",
    "</figure>\n",
    "\n",
    "Before you turn this problem in, make sure everything runs as expected. First, **restart the kernel** (in the menubar, select Kernel$\\rightarrow$Restart) and then **run all cells** (in the menubar, select Cell$\\rightarrow$Run All).\n",
    "\n",
    "Make sure you fill in any place that says `YOUR CODE HERE` or \"YOUR ANSWER HERE\", as well as your name and collaborators below. "
   ]
  },
  {
   "cell_type": "code",
   "execution_count": 11,
   "metadata": {},
   "outputs": [],
   "source": [
    "NAME = \"Ryan Young\"\n",
    "COLLABORATORS = \"\""
   ]
  },
  {
   "cell_type": "markdown",
   "metadata": {},
   "source": [
    "If you referenced any web sites or solutions not of your own creation, list those references here:\n",
    "\n",
    "* List any external references or resources here"
   ]
  },
  {
   "cell_type": "markdown",
   "metadata": {},
   "source": [
    "---"
   ]
  },
  {
   "cell_type": "code",
   "execution_count": 12,
   "metadata": {},
   "outputs": [
    {
     "name": "stdout",
     "output_type": "stream",
     "text": [
      "Requirement already satisfied: nose in /opt/conda/lib/python3.10/site-packages (1.3.7)\n"
     ]
    }
   ],
   "source": [
    "! pip install nose \n",
    "%matplotlib inline\n",
    "import pandas as pd\n",
    "import matplotlib.pyplot as plt\n",
    "import numpy as np\n",
    "import scipy\n",
    "import scipy.stats\n",
    "import math"
   ]
  },
  {
   "cell_type": "markdown",
   "metadata": {
    "deletable": false,
    "editable": false,
    "nbgrader": {
     "checksum": "9d3d42968e0c1465d84b2d9cc9d16b88",
     "grade": false,
     "grade_id": "cell-0a571eb90206d4b4",
     "locked": true,
     "schema_version": 1,
     "solution": false
    }
   },
   "source": [
    "# Question 1 - NumPy and Quantitative Descriptive Statistics\n",
    "\n",
    "In this question, you will demonstrate basic skills in using Python NumPy to manipulate data. You will use NumPy to compute summary statistics (mean, variance, MAD). In addition, you will be asked to prove that variance can be computed efficiently.\n",
    "\n",
    "You are given three datasets, named **mdata, ndata** and **odata** as numpy arrays."
   ]
  },
  {
   "cell_type": "code",
   "execution_count": 13,
   "metadata": {
    "deletable": false,
    "editable": false,
    "nbgrader": {
     "checksum": "f47b639ec966bb2ded035ac3a499bf4c",
     "grade": false,
     "grade_id": "cell-55d3ff74ba2c4509",
     "locked": true,
     "schema_version": 1,
     "solution": false
    }
   },
   "outputs": [],
   "source": [
    "mdata = np.array([-0.45291284,  0.74453572, -0.97287917, -0.86991267, -2.74940419,\n",
    "       -0.66674299,  0.3529351 ,  0.91167899, -1.17912526, -1.22838732,\n",
    "        0.25001612, -1.15477484,  1.67784362,  0.02791846, -2.32938304,\n",
    "       -0.32312156,  1.89865861, -0.93543953, -0.14155349, -0.09179661])\n",
    "ndata = np.array([14, 14, 11, 15, 13, 14, 14, 14, 15, 15, 14, 13, 13, 15, 12, 13, 14,\n",
    "       12, 15, 13])\n",
    "odata = np.array([ 0.67520521,  0.26067143,  3.52429452,  0.77962619,  0.19184713,\n",
    "        0.17497214,  0.39691151,  0.40150936,  0.25971164,  0.38285948,\n",
    "        3.78966047,  0.01862461,  2.64324599,  1.31770968,  1.4903489 ,\n",
    "        1.50268875,  0.14001597,  1.15468168,  1.23531206,  2.2259339 ])"
   ]
  },
  {
   "cell_type": "markdown",
   "metadata": {
    "deletable": false,
    "editable": false,
    "nbgrader": {
     "checksum": "8e598133df9014da36fadc205a7e4887",
     "grade": false,
     "grade_id": "cell-1980bcf1871619ec",
     "locked": true,
     "schema_version": 1,
     "solution": false
    }
   },
   "source": [
    "## 1.A - Compute the mean of mdata [5pts]\n",
    "\n",
    "In the cell below, use basic NumPy operations to set variable `mdata_mean` to the sample mean of **mdata** using the definition from chapter 16 of MIPS. Because the goal of the question is to demonstrate proficiency in using NumPy, you should *not* use `np.mean` -- instead, you should perform the basic calculations yourself using *e.g.* `np.sum`. "
   ]
  },
  {
   "cell_type": "code",
   "execution_count": 14,
   "metadata": {
    "deletable": false,
    "nbgrader": {
     "checksum": "9916762536aed8aa1d46490c6876b589",
     "grade": false,
     "grade_id": "cell-7be37acab98de84c",
     "locked": false,
     "schema_version": 1,
     "solution": true
    }
   },
   "outputs": [
    {
     "name": "stdout",
     "output_type": "stream",
     "text": [
      "-0.3615923445\n",
      "-0.3615923445\n"
     ]
    }
   ],
   "source": [
    "# your code here\n",
    "mdata_mean = mdata.sum()/len(mdata)\n",
    "print(mdata_mean)\n",
    "print(np.mean(mdata))"
   ]
  },
  {
   "cell_type": "code",
   "execution_count": 15,
   "metadata": {
    "deletable": false,
    "editable": false,
    "nbgrader": {
     "checksum": "00ae127708c9596440461476c4418bc7",
     "grade": true,
     "grade_id": "cell-19b5d7b98db59ba3",
     "locked": true,
     "points": 5,
     "schema_version": 1,
     "solution": false
    }
   },
   "outputs": [],
   "source": [
    "from nose.tools import assert_equal\n",
    "assert_equal(mdata_mean, np.mean(mdata))"
   ]
  },
  {
   "cell_type": "markdown",
   "metadata": {},
   "source": [
    "## 1.B - Compute the Variance of ndata [5pts]\n",
    "\n",
    "In the cell below, use basic NumPy operations to set variable `ndata_var` to the sample variance of **ndata** using the definition from chapter 16 of MIPS. You should *not* use `np.var` or `np.mean` -- instead, you should perform the basic calculations yourself using *e.g.* `np.sum`."
   ]
  },
  {
   "cell_type": "code",
   "execution_count": 16,
   "metadata": {
    "deletable": false,
    "nbgrader": {
     "checksum": "f4d317d82ddd938764a2f69887149cf3",
     "grade": false,
     "grade_id": "cell-0af34106f20643e8",
     "locked": false,
     "schema_version": 1,
     "solution": true
    }
   },
   "outputs": [
    {
     "name": "stdout",
     "output_type": "stream",
     "text": [
      "1.2921052631578946\n",
      "1.2921052631578946\n"
     ]
    }
   ],
   "source": [
    "# your code here\n",
    "mean = ndata.sum()/len(ndata)\n",
    "ndata_minus_mean = ndata - mean\n",
    "ndata_sq = np.square(ndata_minus_mean)\n",
    "sum = ndata_sq.sum()\n",
    "ndata_var = sum / (len(ndata)-1)\n",
    "\n",
    "print(ndata_var)\n",
    "print(np.var(ndata,ddof=1))"
   ]
  },
  {
   "cell_type": "code",
   "execution_count": 17,
   "metadata": {
    "deletable": false,
    "editable": false,
    "nbgrader": {
     "checksum": "a62aa03e7fa9a4dc26f8ae1e6150b634",
     "grade": true,
     "grade_id": "cell-7b5d959e0414f53c",
     "locked": true,
     "points": 5,
     "schema_version": 1,
     "solution": false
    }
   },
   "outputs": [],
   "source": [
    "assert abs(ndata_var - np.var(ndata,ddof=1)) < 0.001"
   ]
  },
  {
   "cell_type": "markdown",
   "metadata": {},
   "source": [
    "## 1.C - Compute the Mean Absolute Deviation of odata [5pts]\n",
    "\n",
    "In the cell below, use basic NumPy operations to assign variable `odata_mad` the *median absolute deviation* (MAD) of **odata** using the definition from chapter 16 of MIPS. You should perform the basic calculations yourself using *e.g.* `np.abs` and you may use `np.percentile` to extract the median.\n",
    "\n",
    "Note that the definition of MAD in the MIPS book is the *sample MAD*. Many references use the [MAD as a robust estimate of the standard deviation](https://en.wikipedia.org/wiki/Median_absolute_deviation). To relate the MAD to the standard deviation, a *constant scale factor* is used, depending on the (assumed) population distribution. In this problem, you're being asked to compute the raw sample MAD."
   ]
  },
  {
   "cell_type": "code",
   "execution_count": 19,
   "metadata": {
    "deletable": false,
    "nbgrader": {
     "checksum": "f74e85553c3f36be382dbe17db47450c",
     "grade": false,
     "grade_id": "cell-7d9dcb549128b3be",
     "locked": false,
     "schema_version": 1,
     "solution": true
    }
   },
   "outputs": [
    {
     "name": "stdout",
     "output_type": "stream",
     "text": [
      "0.544006065\n"
     ]
    },
    {
     "ename": "NameError",
     "evalue": "name 'statsmodels' is not defined",
     "output_type": "error",
     "traceback": [
      "\u001b[0;31m---------------------------------------------------------------------------\u001b[0m",
      "\u001b[0;31mNameError\u001b[0m                                 Traceback (most recent call last)",
      "Cell \u001b[0;32mIn[19], line 8\u001b[0m\n\u001b[1;32m      5\u001b[0m odata_mad \u001b[38;5;241m=\u001b[39m np\u001b[38;5;241m.\u001b[39mmedian(ab)\n\u001b[1;32m      7\u001b[0m \u001b[38;5;28mprint\u001b[39m(odata_mad)\n\u001b[0;32m----> 8\u001b[0m \u001b[38;5;28mprint\u001b[39m(\u001b[43mstatsmodels\u001b[49m\u001b[38;5;241m.\u001b[39mrobust\u001b[38;5;241m.\u001b[39mscale\u001b[38;5;241m.\u001b[39mmad(odata,c\u001b[38;5;241m=\u001b[39m\u001b[38;5;241m1\u001b[39m))\n",
      "\u001b[0;31mNameError\u001b[0m: name 'statsmodels' is not defined"
     ]
    }
   ],
   "source": [
    "# your code here\n",
    "odata_mean = np.percentile(odata, 50)\n",
    "odata_minus_mean = odata - odata_mean\n",
    "ab = np.absolute(odata_minus_mean)\n",
    "odata_mad = np.median(ab)\n",
    "\n",
    "print(odata_mad)\n",
    "print(statsmodels.robust.scale.mad(odata,c=1))"
   ]
  },
  {
   "cell_type": "code",
   "execution_count": 20,
   "metadata": {
    "deletable": false,
    "editable": false,
    "nbgrader": {
     "checksum": "db37f27880bc5ec348eb47c489f7407f",
     "grade": true,
     "grade_id": "cell-f45092e761cc076c",
     "locked": true,
     "points": 5,
     "schema_version": 1,
     "solution": false
    }
   },
   "outputs": [],
   "source": [
    "import statsmodels.robust.scale\n",
    "assert abs(odata_mad - statsmodels.robust.scale.mad(odata,c=1)) < 0.001"
   ]
  },
  {
   "cell_type": "markdown",
   "metadata": {},
   "source": [
    "## 1.D - Simplifying the computation of variance [ 10 pts ]\n",
    "\n",
    "This is problem 16.15 from MIPS.\n",
    "\n",
    "The following rule is useful for the computation of the sample variance (and standard deviation). Show that\n",
    "\n",
    "$$ 1/n \\sum_{i=1}^n \\left( x_i - \\bar x\\right)^2 = \\left( 1/n \\sum_{i=1}^n x_i^2 \\right) - (\\bar x)^2 $$ where $\\bar x = 1/n \\sum_{i=1}^n x_i$"
   ]
  },
  {
   "cell_type": "markdown",
   "metadata": {
    "deletable": false,
    "nbgrader": {
     "checksum": "24b4a2fc84f2e50c3193e79f29f1dace",
     "grade": true,
     "grade_id": "cell-2ea1a72a4c1e8380",
     "locked": false,
     "points": 8,
     "schema_version": 1,
     "solution": true
    }
   },
   "source": [
    "YOUR ANSWER HERE"
   ]
  },
  {
   "cell_type": "markdown",
   "metadata": {
    "deletable": false,
    "editable": false,
    "nbgrader": {
     "checksum": "55b417a51553207f1ab5575ddbfcd461",
     "grade": false,
     "grade_id": "cell-474528ef19de7413",
     "locked": true,
     "schema_version": 1,
     "solution": false
    }
   },
   "source": [
    "Assume you are computing the variance and the MAD for many data samples. Given the relationship above, explain one motivation for the common use of computing and reporting the mean and variance compared to the more robust statistics such as median and MAD."
   ]
  },
  {
   "cell_type": "markdown",
   "metadata": {
    "deletable": false,
    "nbgrader": {
     "checksum": "80670a0dbc0f74a3ec3f928958d6906e",
     "grade": true,
     "grade_id": "cell-16a538b403a2b392",
     "locked": false,
     "points": 2,
     "schema_version": 1,
     "solution": true
    }
   },
   "source": [
    "YOUR ANSWER HERE"
   ]
  },
  {
   "cell_type": "markdown",
   "metadata": {},
   "source": [
    "## Problem 2 - Basic Pandas\n",
    "\n",
    "In this problem, you're going to create a Pandas data frame using the **mdata, ndata** and **odata** from the first problem. You'll then compute some basic statistics using the data frame."
   ]
  },
  {
   "cell_type": "markdown",
   "metadata": {
    "deletable": false,
    "editable": false,
    "nbgrader": {
     "checksum": "b3e5a5ec557106a4b53b6b44d83242c0",
     "grade": false,
     "grade_id": "cell-055520b573a6e4ae",
     "locked": true,
     "schema_version": 1,
     "solution": false
    }
   },
   "source": [
    "## Problem 2a - Create the dataframe df [5 pts]\n",
    "\n",
    "Create a dataframe named `df` with three columns labeled `m`, `n` and `o`. Each column should have the data from the corresponding numpy vector."
   ]
  },
  {
   "cell_type": "code",
   "execution_count": 21,
   "metadata": {
    "deletable": false,
    "nbgrader": {
     "checksum": "2b430634d475c0f909ba16ba2439ad23",
     "grade": false,
     "grade_id": "cell-057a5c4d0ff74c32",
     "locked": false,
     "schema_version": 1,
     "solution": true
    }
   },
   "outputs": [],
   "source": [
    "# your code here\n",
    "df = pd.DataFrame( {'m': mdata, 'n': ndata, 'o': odata} )"
   ]
  },
  {
   "cell_type": "code",
   "execution_count": 22,
   "metadata": {
    "deletable": false,
    "editable": false,
    "nbgrader": {
     "checksum": "60ce6ff881a87f451ca70588e93e38e0",
     "grade": true,
     "grade_id": "cell-141e298288cfd0da",
     "locked": true,
     "points": 5,
     "schema_version": 1,
     "solution": false
    }
   },
   "outputs": [],
   "source": [
    "assert np.all(df.columns == ['m', 'n', 'o'])\n",
    "assert np.all(df.m == mdata)\n",
    "assert np.all(df.n == ndata)\n",
    "assert np.all(df.o == odata)"
   ]
  },
  {
   "cell_type": "markdown",
   "metadata": {
    "deletable": false,
    "editable": false,
    "nbgrader": {
     "checksum": "6adcd044f45b5a1fe58666dc4084d02f",
     "grade": false,
     "grade_id": "cell-21f3358f3d313b1e",
     "locked": true,
     "schema_version": 1,
     "solution": false
    }
   },
   "source": [
    "## Problem 2b - Compute the Mean of the m column [5 pts]\n",
    "\n",
    "Assign the variable `df_m_mean` the the mean of the `m` column using the appropriate Pandas form."
   ]
  },
  {
   "cell_type": "code",
   "execution_count": 23,
   "metadata": {
    "deletable": false,
    "nbgrader": {
     "checksum": "b1ea668d95f658a3672c3bae71b90fed",
     "grade": false,
     "grade_id": "cell-f2e808ef5f0eb306",
     "locked": false,
     "schema_version": 1,
     "solution": true
    }
   },
   "outputs": [
    {
     "name": "stdout",
     "output_type": "stream",
     "text": [
      "-0.3615923445\n",
      "-0.3615923445\n"
     ]
    }
   ],
   "source": [
    "# your code here\n",
    "df_m_mean = df.m.mean()\n",
    "\n",
    "print(df_m_mean)\n",
    "print(mdata_mean)"
   ]
  },
  {
   "cell_type": "code",
   "execution_count": 24,
   "metadata": {
    "deletable": false,
    "editable": false,
    "nbgrader": {
     "checksum": "83a429d56d8d63f140218bec04c6eeb9",
     "grade": true,
     "grade_id": "cell-10f82ff8a9150000",
     "locked": true,
     "points": 5,
     "schema_version": 1,
     "solution": false
    }
   },
   "outputs": [],
   "source": [
    "assert abs(df_m_mean - mdata_mean) < 0.001"
   ]
  },
  {
   "cell_type": "markdown",
   "metadata": {},
   "source": [
    "## Problem 2c - Compute the MAD of  the o column [5 pts]\n",
    "\n",
    "Assign the variable `df_o_mad` the MAD of the `o` column. Note that while Pandas has a `mad` function, it computes the *mean* absolute deviation and not the *median* absolute deviation. As indicated [by the pandas developers](https://github.com/pandas-dev/pandas/issues/11787), the `mad` method will be removed. So don't use it."
   ]
  },
  {
   "cell_type": "code",
   "execution_count": 25,
   "metadata": {
    "deletable": false,
    "nbgrader": {
     "checksum": "1548ad7d5c100c8767c694418faba683",
     "grade": false,
     "grade_id": "cell-21aa7af30752b92c",
     "locked": false,
     "schema_version": 1,
     "solution": true
    }
   },
   "outputs": [
    {
     "name": "stdout",
     "output_type": "stream",
     "text": [
      "0.544006065\n",
      "0.544006065\n"
     ]
    }
   ],
   "source": [
    "# your code here\n",
    "odata_mean = df.o.median()\n",
    "odata_minus_mean = df.o - odata_mean\n",
    "ab = np.absolute(odata_minus_mean)\n",
    "df_o_mad = np.median(ab)\n",
    "\n",
    "print(df_o_mad)\n",
    "print(odata_mad)"
   ]
  },
  {
   "cell_type": "code",
   "execution_count": 26,
   "metadata": {
    "deletable": false,
    "editable": false,
    "nbgrader": {
     "checksum": "0025908daf21254e418abd42a667017f",
     "grade": true,
     "grade_id": "cell-c8d006ab4bbe6dfb",
     "locked": true,
     "points": 5,
     "schema_version": 1,
     "solution": false
    }
   },
   "outputs": [],
   "source": [
    "assert abs(df_o_mad - odata_mad) < 0.001"
   ]
  },
  {
   "cell_type": "markdown",
   "metadata": {},
   "source": [
    "## Problem 2d- Subset df [5 pts]\n",
    "\n",
    "Assign variable `df2` to be a new data frame that is a subset of `df` where the values in the `n` column are equal to 14 and the values in the `o` column are less than 0.2.\n",
    "\n",
    "If you get errors, you may want try putting in parenthesis and consult the [operator precedence table](https://docs.python.org/3/reference/expressions.html#operator-precedence) for python showing how expressions are evaluated."
   ]
  },
  {
   "cell_type": "code",
   "execution_count": null,
   "metadata": {
    "deletable": false,
    "nbgrader": {
     "checksum": "00af4a3b121096a3a8357626ab700f2c",
     "grade": false,
     "grade_id": "cell-d192896fc08d59bf",
     "locked": false,
     "schema_version": 1,
     "solution": true
    }
   },
   "outputs": [
    {
     "name": "stdout",
     "output_type": "stream",
     "text": [
      "           m   n         o\n",
      "5  -0.666743  14  0.174972\n",
      "16  1.898659  14  0.140016\n"
     ]
    }
   ],
   "source": [
    "# your code here\n",
    "df2 = df[(df.n == 14) & (df.o < 0.2)]\n",
    "\n",
    "print(df2)"
   ]
  },
  {
   "cell_type": "code",
   "execution_count": null,
   "metadata": {
    "deletable": false,
    "editable": false,
    "nbgrader": {
     "checksum": "8d03553f4f92aea61c748daa3e3e2a5e",
     "grade": true,
     "grade_id": "cell-cb347fd65764ad43",
     "locked": true,
     "points": 5,
     "schema_version": 1,
     "solution": false
    }
   },
   "outputs": [],
   "source": [
    "assert np.all(df2.columns == ['m', 'n', 'o'])\n",
    "assert np.all(df2.index == [5, 16])\n",
    "assert abs(df2.o[5] - 0.174) < 0.001"
   ]
  },
  {
   "cell_type": "markdown",
   "metadata": {},
   "source": [
    "## Problem 2e - maximum of other columns for specific n [5 pts]\n",
    "\n",
    "Assign variable `df_n_max` to be a data frame that contains the maximum value of `m` and `o` for each unique value of `n`. The `df_n_max` data frame should have five rows and two columns; the indicies in the the data frame should indicate the the value of `n` for which these values of `m` and `o` are the maximum.\n",
    "\n",
    "You can either do this using slicing operations (not recommended) or using **groupby** (recommended)."
   ]
  },
  {
   "cell_type": "code",
   "execution_count": null,
   "metadata": {
    "deletable": false,
    "nbgrader": {
     "checksum": "0a923eb72af875e3d8353d748c3a431e",
     "grade": false,
     "grade_id": "cell-83766538371d0385",
     "locked": false,
     "schema_version": 1,
     "solution": true
    }
   },
   "outputs": [
    {
     "name": "stdout",
     "output_type": "stream",
     "text": [
      "           m         o\n",
      "n                     \n",
      "11 -0.972879  3.524295\n",
      "12 -0.935440  1.490349\n",
      "13  1.677844  2.643246\n",
      "14  1.898659  3.789660\n",
      "15  0.027918  1.317710\n"
     ]
    }
   ],
   "source": [
    "# your code here\n",
    "df_n_max = df.groupby(['n'])[['m', 'o']].max()\n",
    "\n",
    "print(df_n_max)"
   ]
  },
  {
   "cell_type": "code",
   "execution_count": null,
   "metadata": {
    "deletable": false,
    "editable": false,
    "nbgrader": {
     "checksum": "0fc32939e8c7c51d74cf4aae26d95c87",
     "grade": true,
     "grade_id": "cell-6bbae3effac6e325",
     "locked": true,
     "points": 5,
     "schema_version": 1,
     "solution": false
    }
   },
   "outputs": [],
   "source": [
    "assert df_n_max.shape == (5,2)\n",
    "assert np.all(df_n_max.columns == ['m', 'o'])\n",
    "assert np.all(df_n_max.index == [11, 12, 13, 14, 15])\n",
    "assert abs(df_n_max.o[11] - 3.524) < 0.001"
   ]
  },
  {
   "cell_type": "markdown",
   "metadata": {},
   "source": [
    "# Problem 3 - Plotting Using Matplotlib\n",
    "\n",
    "In this problem, we'll use a data set describes in MIPS Chapter 1, the Michelson measurements of the speed of light. There is more information on the [Michelson-Morley experimental methods in Wikipedia](https://en.wikipedia.org/wiki/Albert_A._Michelson).\n",
    "\n",
    "Morley conducted 5 experiments of 20 measurements each. The data is provided to you as three NumPy arrays:\n",
    "* `speed` - this is the estimated speed of light minus 299000. I.e. 850 corresponds to an estimate of 299850\n",
    "* `expt` - this is the experiment number (1..5) for the corresponding `speed`\n",
    "* `meas` - this is measurement number within an experiment (1..19) for the corresponding `speed`\n",
    "\n",
    "The currently accepted speed of light is"
   ]
  },
  {
   "cell_type": "code",
   "execution_count": null,
   "metadata": {
    "deletable": false,
    "editable": false,
    "nbgrader": {
     "checksum": "234b0fed526f42fbc5e79de45b1f6943",
     "grade": false,
     "grade_id": "cell-d3adeefb8803bcef",
     "locked": true,
     "schema_version": 1,
     "solution": false
    }
   },
   "outputs": [],
   "source": [
    "sol = 299792.458 # km/s"
   ]
  },
  {
   "cell_type": "code",
   "execution_count": null,
   "metadata": {
    "deletable": false,
    "editable": false,
    "nbgrader": {
     "checksum": "48412cf1bdebd3559b797aab7aa8b949",
     "grade": false,
     "grade_id": "cell-93d560a961cb498a",
     "locked": true,
     "schema_version": 1,
     "solution": false
    }
   },
   "outputs": [],
   "source": [
    "speed = np.array([  850.,   740.,   900.,  1070.,   930.,   850.,   950.,   980.,\n",
    "         980.,   880.,  1000.,   980.,   930.,   650.,   760.,   810.,\n",
    "        1000.,  1000.,   960.,   960.,   960.,   940.,   960.,   940.,\n",
    "         880.,   800.,   850.,   880.,   900.,   840.,   830.,   790.,\n",
    "         810.,   880.,   880.,   830.,   800.,   790.,   760.,   800.,\n",
    "         880.,   880.,   880.,   860.,   720.,   720.,   620.,   860.,\n",
    "         970.,   950.,   880.,   910.,   850.,   870.,   840.,   840.,\n",
    "         850.,   840.,   840.,   840.,   890.,   810.,   810.,   820.,\n",
    "         800.,   770.,   760.,   740.,   750.,   760.,   910.,   920.,\n",
    "         890.,   860.,   880.,   720.,   840.,   850.,   850.,   780.,\n",
    "         890.,   840.,   780.,   810.,   760.,   810.,   790.,   810.,\n",
    "         820.,   850.,   870.,   870.,   810.,   740.,   810.,   940.,\n",
    "         950.,   800.,   810.,   870.])\n",
    "meas = np.array([  1.,   2.,   3.,   4.,   5.,   6.,   7.,   8.,   9.,  10.,  11.,\n",
    "        12.,  13.,  14.,  15.,  16.,  17.,  18.,  19.,  20.,   1.,   2.,\n",
    "         3.,   4.,   5.,   6.,   7.,   8.,   9.,  10.,  11.,  12.,  13.,\n",
    "        14.,  15.,  16.,  17.,  18.,  19.,  20.,   1.,   2.,   3.,   4.,\n",
    "         5.,   6.,   7.,   8.,   9.,  10.,  11.,  12.,  13.,  14.,  15.,\n",
    "        16.,  17.,  18.,  19.,  20.,   1.,   2.,   3.,   4.,   5.,   6.,\n",
    "         7.,   8.,   9.,  10.,  11.,  12.,  13.,  14.,  15.,  16.,  17.,\n",
    "        18.,  19.,  20.,   1.,   2.,   3.,   4.,   5.,   6.,   7.,   8.,\n",
    "         9.,  10.,  11.,  12.,  13.,  14.,  15.,  16.,  17.,  18.,  19.,\n",
    "        20.])\n",
    "expt = np.array([ 1.,  1.,  1.,  1.,  1.,  1.,  1.,  1.,  1.,  1.,  1.,  1.,  1.,\n",
    "        1.,  1.,  1.,  1.,  1.,  1.,  1.,  2.,  2.,  2.,  2.,  2.,  2.,\n",
    "        2.,  2.,  2.,  2.,  2.,  2.,  2.,  2.,  2.,  2.,  2.,  2.,  2.,\n",
    "        2.,  3.,  3.,  3.,  3.,  3.,  3.,  3.,  3.,  3.,  3.,  3.,  3.,\n",
    "        3.,  3.,  3.,  3.,  3.,  3.,  3.,  3.,  4.,  4.,  4.,  4.,  4.,\n",
    "        4.,  4.,  4.,  4.,  4.,  4.,  4.,  4.,  4.,  4.,  4.,  4.,  4.,\n",
    "        4.,  4.,  5.,  5.,  5.,  5.,  5.,  5.,  5.,  5.,  5.,  5.,  5.,\n",
    "        5.,  5.,  5.,  5.,  5.,  5.,  5.,  5.,  5.])"
   ]
  },
  {
   "cell_type": "markdown",
   "metadata": {},
   "source": [
    "## Problem 3a - Graphing Point Data [ 5 pt ]\n",
    "\n",
    "Plot the `speed` data *vs.* the data sample number. You should reproduce the following image\n",
    "\n",
    "![Speed of Light Samples](sol-samples.png)\n",
    "\n",
    "Label the X and Y axis, provide a legend and draw a horizontal line indicating the estimated (mean) speed of light in blue. Draw a horizontal line in red indicating the currently accepted speed of light.\n",
    "\n",
    "You can use either the `plt.` style commands or the `axes` style commands - it's up to you."
   ]
  },
  {
   "cell_type": "code",
   "execution_count": null,
   "metadata": {
    "deletable": false,
    "nbgrader": {
     "checksum": "06b08d09710ce0b0882e20e7f040d6e5",
     "grade": true,
     "grade_id": "cell-fbf1b8620d0640b0",
     "locked": false,
     "points": 5,
     "schema_version": 1,
     "solution": true
    }
   },
   "outputs": [
    {
     "data": {
      "image/png": "[encoded data removed]",
      "text/plain": [
       "<Figure size 640x480 with 1 Axes>"
      ]
     },
     "metadata": {},
     "output_type": "display_data"
    }
   ],
   "source": [
    "# your code here\n",
    "x = np.arange(1,101)\n",
    "s = speed + 299000\n",
    "exp_mean = np.mean(speed) + 299000\n",
    "plt.plot(x, s, 'bo', label='samples')\n",
    "plt.xlabel('Sample Number')\n",
    "plt.ylabel('Speed in km/2')\n",
    "plt.axhline(sol, color='r')\n",
    "plt.axhline(exp_mean, color='b')\n",
    "plt.legend()\n",
    "plt.show()"
   ]
  },
  {
   "cell_type": "markdown",
   "metadata": {},
   "source": [
    "## Problem 3b - Checking for experimental error [ 10 pt ]\n",
    "\n",
    "Looking at the data in the prior plot, it's clear that there are some patterns in the data relative to the overall mean. This might indicate some systematic experimental error. For example, if the first set of measurements is significantly larger than the later set, it may indicate that the experimenter has some initial problems with their equipment. Likewise, if there's a pattern within an experiment, it may indicate that something moves or changes during the course of the experiment (*e.g.* perhaps the day gets warmer, increasing the length of the measuring tape).\n",
    "\n",
    "In an effort to see such patterns, produce a plot like the following\n",
    "![Deviation from group mean by experiment](sol-by-expt.png)\n",
    "\n",
    "In this plot, the data is broken down into different experiments. The deviation of each sample from the sample mean of that experiment is ploted *vs* the sample number. The first sample is plotted in blue and the remaining samples are in order of the [standard matplotlib colors](https://matplotlib.org/2.0.2/api/colors_api.html). The figure should have X and Y axis labels and a legend as shown."
   ]
  },
  {
   "cell_type": "code",
   "execution_count": null,
   "metadata": {
    "deletable": false,
    "nbgrader": {
     "checksum": "13a0de594696f6ef96c3a87e3b9b7fde",
     "grade": true,
     "grade_id": "cell-93a14eb5411c83b0",
     "locked": false,
     "points": 10,
     "schema_version": 1,
     "solution": true
    }
   },
   "outputs": [
    {
     "data": {
      "image/png": "[encoded data removed]",
      "text/plain": [
       "<Figure size 640x480 with 1 Axes>"
      ]
     },
     "metadata": {},
     "output_type": "display_data"
    }
   ],
   "source": [
    "# your code here\n",
    "xpt = np.arange(1,101)\n",
    "spd = speed - np.mean(speed)\n",
    "for exptNum in range(1, 6):\n",
    "    \n",
    "    x = xpt[exptNum == expt]\n",
    "    s = spd[exptNum == expt]\n",
    "\n",
    "    if(exptNum == 1):\n",
    "        plt.plot(x, s, 'bo', label='Expt #' + str(exptNum))\n",
    "    elif(exptNum == 2):\n",
    "        plt.plot(x, s, 'go', label='Expt #' + str(exptNum))\n",
    "    elif(exptNum == 3):\n",
    "        plt.plot(x, s, 'ro', label='Expt #' + str(exptNum))\n",
    "    elif(exptNum == 4):\n",
    "        plt.plot(x, s, 'co', label='Expt #' + str(exptNum))    \n",
    "    elif(exptNum == 5):\n",
    "        plt.plot(x, s, 'mo', label='Expt #' + str(exptNum)) \n",
    "\n",
    "plt.xlabel('Sample Number')\n",
    "plt.ylabel('Speed in km/2')\n",
    "plt.legend()\n",
    "plt.show()\n"
   ]
  },
  {
   "cell_type": "markdown",
   "metadata": {},
   "source": [
    "## Problem 3c - Refining the Visual Data Analysis [ 10 pt ]\n",
    "\n",
    "Although the previous diagram indicated some trends in the deviation of the errors, it's still not convincing -- there's too much detail and it's hard to see the variation from experiment to experiment.\n",
    "\n",
    "Realizing that *less is more*, let's prepare a graph showing the overall data in a single box plot and the per-experiment data in a grouped set of boxplots. Your plot should look something like the following:\n",
    "\n",
    "![Side by side boxplots](sol-side-by-side.png)\n",
    "\n",
    "The plots should share a common Y axis. In the left plot, the tick marks should be omitted because a single boxplot containing all data is being shown. Draw a horizontal red line indicating the currently accepted speed of light. In the right, individual experiments should be shown with tick marks indicating the experiment number.\n",
    "\n",
    "You don't have to include the annotated text in the left plot indicating the current speed of light [but it's easy to do](https://matplotlib.org/users/pyplot_tutorial.html#annotating-text).\n",
    "\n",
    "This presentation of the data indicates that there was significant variation in the first run of the experiment."
   ]
  },
  {
   "cell_type": "code",
   "execution_count": null,
   "metadata": {},
   "outputs": [],
   "source": []
  },
  {
   "cell_type": "code",
   "execution_count": null,
   "metadata": {
    "deletable": false,
    "nbgrader": {
     "checksum": "5d889ee7577fba97712d677fa3d59ee3",
     "grade": true,
     "grade_id": "cell-4069cb5949451b0c",
     "locked": false,
     "points": 10,
     "schema_version": 1,
     "solution": true
    }
   },
   "outputs": [
    {
     "data": {
      "image/png": "[encoded data removed]",
      "text/plain": [
       "<Figure size 640x480 with 2 Axes>"
      ]
     },
     "metadata": {},
     "output_type": "display_data"
    }
   ],
   "source": [
    "# your code here\n",
    "alist, blist, clist, dlist, elist = ([] for i in range(5))\n",
    "s = speed + 299000\n",
    "\n",
    "for exptNum in range(len(expt)):\n",
    "    if(expt[exptNum] == 1):\n",
    "        alist.append(s[exptNum])\n",
    "    elif(expt[exptNum] == 2):\n",
    "        blist.append(s[exptNum])\n",
    "    if(expt[exptNum] == 3):\n",
    "        clist.append(s[exptNum])\n",
    "    if(expt[exptNum] == 4):\n",
    "        dlist.append(s[exptNum])\n",
    "    if(expt[exptNum] == 5):\n",
    "        elist.append(s[exptNum])\n",
    "\n",
    "fig, ax = plt.subplots(nrows = 1, ncols = 2, sharey = True);\n",
    "ax[0].boxplot(s, notch='True');\n",
    "ax[0].set_xlabel('All Data');\n",
    "ax[0].set_ylabel('Speed in km/2');\n",
    "# sol = 299792.458 # km/s\n",
    "ax[0].axhline(sol,  color='r')\n",
    "\n",
    "ax[1].boxplot([alist, blist, clist, dlist, elist], labels=['1', '2', '3', '4', '5']);\n",
    "ax[1].set_xlabel('Individual Experiments');\n",
    "# ax[1].set_ylabel('Speed in km/2')"
   ]
  },
  {
   "cell_type": "code",
   "execution_count": null,
   "metadata": {},
   "outputs": [],
   "source": []
  },
  {
   "cell_type": "markdown",
   "metadata": {},
   "source": [
    "# Problem 4 - Evidence for Money Ball\n",
    "\n",
    "In the book [MoneyBall](https://en.wikipedia.org/wiki/Moneyball), Michael Lewis documented the introduction of statistics and data science in selecting players for the Oakland A's. in this problem, we're going to use [Sean Lahman's Baseball Database](http://seanlahman.com/baseball-archive/statistics) which contains the \"complete batting and pitching statistics from 1871 to 2013, plus fielding statistics, standings, team stats, managerial records, post-season data, and more. For more details, please [read the documentation](http://seanlahman.com/files/database/readme2012.txt).\"\n",
    "\n",
    "We're going to use two data sets, `Teams.csv` and `Salaries.csv`. These datasets should be provided in the zip file for this homework. Both files include columns `yearID` and `teamID`. The `teamID` field is a categorical field indicating the team names. The `yearID` field is a numeric field indicating the year for the data in that row. The `Teams.csv` file also contains a field `W`, which indicates the total *wins* for that team in that year. The `Salaries.csv` file contains the salary of individual players. Each player is listed on a distinct line."
   ]
  },
  {
   "cell_type": "markdown",
   "metadata": {},
   "source": [
    "## Problem 4a - Checking the number of wins in 1998\n",
    "\n",
    "Read in the `Teams.csv` data and extract number of wins per team for 1998. You should set variable `w1998` to be a `pd.Series` with indicies of the team names and value of the total number of wins. The team names in the index should be sorted alphabetically from ANA to TOR. \n",
    "\n",
    "There are two ways to approach this - in the first, you can use `groupby` to group the salary data by year and team, aggregate the data (even though there's a single value of W for each year) and extract the data for the specific year using the [selection by label function `loc`](https://pandas.pydata.org/pandas-docs/stable/indexing.html#indexing-label).\n",
    "\n",
    "A second way to do this is to use [boolean indexing](https://pandas.pydata.org/pandas-docs/stable/indexing.html#boolean-indexing) to extract the appropriate values from the W column; however, that data will be indexed with the row number from the CSV file and you'll need to take additional steps to create an index as described above (and tested for below)\n",
    "\n",
    "Once you have that data, I've included the line to produce a bar plot showing the wins."
   ]
  },
  {
   "cell_type": "code",
   "execution_count": 39,
   "metadata": {
    "deletable": false,
    "nbgrader": {
     "checksum": "c765b3cecfb8d8582dd862e478093940",
     "grade": false,
     "grade_id": "cell-d660242b8519ecc2",
     "locked": false,
     "schema_version": 1,
     "solution": true
    }
   },
   "outputs": [
    {
     "name": "stdout",
     "output_type": "stream",
     "text": [
      "teamID\n",
      "ANA     85\n",
      "ARI     65\n",
      "ATL    106\n",
      "BAL     79\n",
      "BOS     92\n",
      "CHA     80\n",
      "CHN     90\n",
      "CIN     77\n",
      "CLE     89\n",
      "COL     77\n",
      "DET     65\n",
      "FLO     54\n",
      "HOU    102\n",
      "KCA     72\n",
      "LAN     83\n",
      "MIL     74\n",
      "MIN     70\n",
      "MON     65\n",
      "NYA    114\n",
      "NYN     88\n",
      "OAK     74\n",
      "PHI     75\n",
      "PIT     69\n",
      "SDN     98\n",
      "SEA     76\n",
      "SFN     89\n",
      "SLN     83\n",
      "TBA     63\n",
      "TEX     88\n",
      "TOR     88\n",
      "Name: W, dtype: int64\n"
     ]
    }
   ],
   "source": [
    "# your code here\n",
    "# load data from local file\n",
    "teams = pd.read_csv('Teams.csv')\n",
    "dat = teams.groupby(['yearID', 'teamID']) # organize the data by sorting first by year, then by team\n",
    "dat = dat['W'] # select the 'wins' column\n",
    "dat = dat.sum().reset_index() # within each group (year and team), add up the number of wins.\n",
    "# isolate just the wins for the year 1998\n",
    "dat = dat.loc[dat['yearID'] == 1998]\n",
    "\n",
    "team = dat['teamID']\n",
    "wins = dat['W']\n",
    "w1998= Sages = pd.Series(wins, )\n",
    "w1998.index = team;\n",
    "print(w1998);"
   ]
  },
  {
   "cell_type": "code",
   "execution_count": 40,
   "metadata": {},
   "outputs": [
    {
     "data": {
      "text/plain": [
       "2430"
      ]
     },
     "execution_count": 40,
     "metadata": {},
     "output_type": "execute_result"
    }
   ],
   "source": [
    "w1998.sum()"
   ]
  },
  {
   "cell_type": "code",
   "execution_count": 41,
   "metadata": {
    "deletable": false,
    "editable": false,
    "nbgrader": {
     "checksum": "a3e9a4254505d06775a96120fc062d4f",
     "grade": true,
     "grade_id": "cell-dc6e070641ae8f99",
     "locked": true,
     "points": 5,
     "schema_version": 1,
     "solution": false
    }
   },
   "outputs": [],
   "source": [
    "assert w1998.shape == (30,)\n",
    "assert w1998['ANA'] == 85\n",
    "assert w1998['TOR'] == 88\n",
    "assert w1998.sum() == 2430"
   ]
  },
  {
   "cell_type": "code",
   "execution_count": 42,
   "metadata": {},
   "outputs": [
    {
     "data": {
      "image/png": "[encoded data removed]",
      "text/plain": [
       "<Figure size 800x400 with 1 Axes>"
      ]
     },
     "metadata": {},
     "output_type": "display_data"
    }
   ],
   "source": [
    "w1998.plot(kind='bar', figsize=(8,4)).set(ylabel='Wins', xlabel = 'Team');"
   ]
  },
  {
   "cell_type": "markdown",
   "metadata": {},
   "source": [
    "## Problem 4b - Examining mean salary over time [10 pts]\n",
    "\n",
    "Read in the salary data and produce a stacked barplot of the average salary per team for the years 1990 to 2010. The resulting figure should look something like the following:\n",
    "\n",
    "![Salary stacked bar plot](bball-salary-stacked.png)\n",
    "\n",
    "Doing this is an exercise in manipulating Pandas data frames because the plotting code is one line that I provide. \n",
    "\n",
    "To plot a stacked bar plot, you need data in a form such as:\n",
    "\n",
    "```\n",
    "       a    b\n",
    "one  1.0  2.0\n",
    "two  3.0  4.0\n",
    "```\n",
    "\n",
    "where the columns are the elements to be stacked -- *i.e.* we'll have bars labeled 'one' and 'two' each containing data corresponding to 'a' and 'b'. In our example, the column labels will need to be the team names and the rows will be the years.\n",
    "\n",
    "There's an easy way to transform data that looks like:\n",
    "```\n",
    "one  a    1.0\n",
    "     b    2.0\n",
    "two  a    3.0\n",
    "     b    4.0\n",
    "```\n",
    "into the column-labeled varity by using [`unstack()` to change a level of index to column labels](https://pandas.pydata.org/pandas-docs/stable/generated/pandas.DataFrame.unstack.html).\n",
    "\n",
    "You need to provide a single Pandas dataframe `sals` that contains the mean salary data. Each row contains the data for a single year and each column is a team name. Your data frame should look something like this..\n",
    "```\n",
    "teamID\tANA\tARI\tATL\tBAL\tBOS\t...\n",
    "yearID\t\t\t\t\t\t\t\t\t\t\t\t\t\t\t\t\t\t\t\t\t\n",
    "1990\t0.000000e+00\t0.000000e+00\t4.548594e+05\t...\n",
    "1991\t0.000000e+00\t0.000000e+00\t7.361400e+05\n",
    "```\n",
    " This is easiest to do using `groupby` to gather the data by year and team and then transform that using unstack. The [documentation on groupby](https://pandas.pydata.org/pandas-docs/stable/groupby.html) shows how to group with multiple columns (year, team). You may also need to clean up the data if there are NaN values (perhaps because a team didn't exist in a given year) because those won't plot correctly.\n",
    " \n",
    " Approach this in steps -- this is literally a single line of Pandas code once you've read in the salary data."
   ]
  },
  {
   "cell_type": "code",
   "execution_count": 43,
   "metadata": {
    "deletable": false,
    "editable": false,
    "nbgrader": {
     "checksum": "29306d9d15faaa07c8321391556d6756",
     "grade": false,
     "grade_id": "cell-428be5b7e74dee9a",
     "locked": true,
     "schema_version": 1,
     "solution": false
    }
   },
   "outputs": [
    {
     "name": "stdout",
     "output_type": "stream",
     "text": [
      "one  a    1.0\n",
      "     b    2.0\n",
      "two  a    3.0\n",
      "     b    4.0\n",
      "dtype: float64\n",
      "Unstacked by one level, the dataframe is\n",
      "       a    b\n",
      "one  1.0  2.0\n",
      "two  3.0  4.0\n"
     ]
    },
    {
     "data": {
      "image/png": "[encoded data removed]",
      "text/plain": [
       "<Figure size 400x100 with 1 Axes>"
      ]
     },
     "metadata": {},
     "output_type": "display_data"
    }
   ],
   "source": [
    "#\n",
    "# Example showing unstack()\n",
    "#\n",
    "ex_i = pd.MultiIndex.from_tuples([('one', 'a'), ('one', 'b'), ('two', 'a'), ('two', 'b')])\n",
    "ex_s = pd.Series(np.arange(1.0, 5.0), index=ex_i)\n",
    "print(ex_s)\n",
    "print('Unstacked by one level, the dataframe is')\n",
    "print(ex_s.unstack())\n",
    "ex_s.unstack().plot(kind='bar', stacked=True, figsize=(4,1));"
   ]
  },
  {
   "cell_type": "code",
   "execution_count": 110,
   "metadata": {
    "deletable": false,
    "nbgrader": {
     "checksum": "50343ae2baf49ad68d522cb33237f5c6",
     "grade": false,
     "grade_id": "cell-24896afe02722a15",
     "locked": false,
     "schema_version": 1,
     "solution": true
    }
   },
   "outputs": [
    {
     "ename": "AttributeError",
     "evalue": "'DataFrame' object has no attribute 'yearID'",
     "output_type": "error",
     "traceback": [
      "\u001b[0;31m---------------------------------------------------------------------------\u001b[0m",
      "\u001b[0;31mAttributeError\u001b[0m                            Traceback (most recent call last)",
      "Cell \u001b[0;32mIn[110], line 6\u001b[0m\n\u001b[1;32m      4\u001b[0m \u001b[38;5;66;03m#sal = sal[sal.yearID > 1989]\u001b[39;00m\n\u001b[1;32m      5\u001b[0m sal \u001b[38;5;241m=\u001b[39m sal\u001b[38;5;241m.\u001b[39mgroupby([\u001b[38;5;124m'\u001b[39m\u001b[38;5;124myearID\u001b[39m\u001b[38;5;124m'\u001b[39m, \u001b[38;5;124m'\u001b[39m\u001b[38;5;124mteamID\u001b[39m\u001b[38;5;124m'\u001b[39m])\u001b[38;5;241m.\u001b[39magg({\u001b[38;5;124m'\u001b[39m\u001b[38;5;124msalary\u001b[39m\u001b[38;5;124m'\u001b[39m : \u001b[38;5;124m'\u001b[39m\u001b[38;5;124mmean\u001b[39m\u001b[38;5;124m'\u001b[39m})\n\u001b[0;32m----> 6\u001b[0m sal \u001b[38;5;241m=\u001b[39m sal[\u001b[43msal\u001b[49m\u001b[38;5;241;43m.\u001b[39;49m\u001b[43myearID\u001b[49m \u001b[38;5;241m>\u001b[39m \u001b[38;5;241m1989\u001b[39m]\n\u001b[1;32m      7\u001b[0m \u001b[38;5;28mprint\u001b[39m(sal)\n\u001b[1;32m      8\u001b[0m \u001b[38;5;66;03m#dat = dat['salary'] # select the 'salary' column\u001b[39;00m\n\u001b[1;32m      9\u001b[0m \u001b[38;5;66;03m#dat = dat.mean().reset_index() # within each group (year and team), mean salary\u001b[39;00m\n",
      "File \u001b[0;32m/opt/conda/lib/python3.10/site-packages/pandas/core/generic.py:5902\u001b[0m, in \u001b[0;36mNDFrame.__getattr__\u001b[0;34m(self, name)\u001b[0m\n\u001b[1;32m   5895\u001b[0m \u001b[38;5;28;01mif\u001b[39;00m (\n\u001b[1;32m   5896\u001b[0m     name \u001b[38;5;129;01mnot\u001b[39;00m \u001b[38;5;129;01min\u001b[39;00m \u001b[38;5;28mself\u001b[39m\u001b[38;5;241m.\u001b[39m_internal_names_set\n\u001b[1;32m   5897\u001b[0m     \u001b[38;5;129;01mand\u001b[39;00m name \u001b[38;5;129;01mnot\u001b[39;00m \u001b[38;5;129;01min\u001b[39;00m \u001b[38;5;28mself\u001b[39m\u001b[38;5;241m.\u001b[39m_metadata\n\u001b[1;32m   5898\u001b[0m     \u001b[38;5;129;01mand\u001b[39;00m name \u001b[38;5;129;01mnot\u001b[39;00m \u001b[38;5;129;01min\u001b[39;00m \u001b[38;5;28mself\u001b[39m\u001b[38;5;241m.\u001b[39m_accessors\n\u001b[1;32m   5899\u001b[0m     \u001b[38;5;129;01mand\u001b[39;00m \u001b[38;5;28mself\u001b[39m\u001b[38;5;241m.\u001b[39m_info_axis\u001b[38;5;241m.\u001b[39m_can_hold_identifiers_and_holds_name(name)\n\u001b[1;32m   5900\u001b[0m ):\n\u001b[1;32m   5901\u001b[0m     \u001b[38;5;28;01mreturn\u001b[39;00m \u001b[38;5;28mself\u001b[39m[name]\n\u001b[0;32m-> 5902\u001b[0m \u001b[38;5;28;01mreturn\u001b[39;00m \u001b[38;5;28;43mobject\u001b[39;49m\u001b[38;5;241;43m.\u001b[39;49m\u001b[38;5;21;43m__getattribute__\u001b[39;49m\u001b[43m(\u001b[49m\u001b[38;5;28;43mself\u001b[39;49m\u001b[43m,\u001b[49m\u001b[43m \u001b[49m\u001b[43mname\u001b[49m\u001b[43m)\u001b[49m\n",
      "\u001b[0;31mAttributeError\u001b[0m: 'DataFrame' object has no attribute 'yearID'"
     ]
    }
   ],
   "source": [
    "# your code here\n",
    "# load data from local file\n",
    "sal = pd.read_csv('Salaries.csv')\n",
    "sal = sal[sal.yearID > 1989]\n",
    "sal = sal.groupby(['yearID', 'teamID']).agg({'salary' : 'mean'})\n",
    "sal = sal[sal.yearID > 1989]\n",
    "print(sal)\n",
    "#dat = dat['salary'] # select the 'salary' column\n",
    "#dat = dat.mean().reset_index() # within each group (year and team), mean salary\n"
   ]
  },
  {
   "cell_type": "code",
   "execution_count": 93,
   "metadata": {
    "deletable": false,
    "editable": false,
    "nbgrader": {
     "checksum": "2790793a6f81641bc15f5c6cd29c02ab",
     "grade": true,
     "grade_id": "cell-3727084646b5a37c",
     "locked": true,
     "points": 1,
     "schema_version": 1,
     "solution": false
    }
   },
   "outputs": [
    {
     "ename": "AssertionError",
     "evalue": "",
     "output_type": "error",
     "traceback": [
      "\u001b[0;31m---------------------------------------------------------------------------\u001b[0m",
      "\u001b[0;31mAssertionError\u001b[0m                            Traceback (most recent call last)",
      "Cell \u001b[0;32mIn[93], line 1\u001b[0m\n\u001b[0;32m----> 1\u001b[0m \u001b[38;5;28;01massert\u001b[39;00m sals\u001b[38;5;241m.\u001b[39mshape \u001b[38;5;241m==\u001b[39m (\u001b[38;5;241m21\u001b[39m,\u001b[38;5;241m34\u001b[39m)\n",
      "\u001b[0;31mAssertionError\u001b[0m: "
     ]
    }
   ],
   "source": [
    "assert sals.shape == (21,34)"
   ]
  },
  {
   "cell_type": "code",
   "execution_count": null,
   "metadata": {
    "deletable": false,
    "editable": false,
    "nbgrader": {
     "checksum": "756531bc4fb6e428af165c73b688420a",
     "grade": true,
     "grade_id": "cell-daa494c425023050",
     "locked": true,
     "points": 2,
     "schema_version": 1,
     "solution": false
    }
   },
   "outputs": [],
   "source": [
    "#\n",
    "# Check column names\n",
    "#\n",
    "assert sals.columns[0] == 'ANA'\n",
    "assert sals.columns[33] == 'WAS'"
   ]
  },
  {
   "cell_type": "code",
   "execution_count": null,
   "metadata": {
    "deletable": false,
    "editable": false,
    "nbgrader": {
     "checksum": "1c0e5be0b0ef91e1a3136afbcf4419f2",
     "grade": true,
     "grade_id": "cell-e99a2d33808a9621",
     "locked": true,
     "points": 3,
     "schema_version": 1,
     "solution": false
    }
   },
   "outputs": [],
   "source": [
    "#\n",
    "# Check that specific values are close to the right values\n",
    "#\n",
    "assert abs(sals.values[0][3] - 261623) < 1\n",
    "assert sals.values[20][5] == 0"
   ]
  },
  {
   "cell_type": "code",
   "execution_count": null,
   "metadata": {
    "deletable": false,
    "editable": false,
    "nbgrader": {
     "checksum": "8eba1222030fdd7ae855c48c11bc2a8b",
     "grade": true,
     "grade_id": "cell-f8f43fcba2d580a5",
     "locked": true,
     "points": 4,
     "schema_version": 1,
     "solution": false
    }
   },
   "outputs": [],
   "source": [
    "#\n",
    "# Check broader set of values\n",
    "#\n",
    "assert (sals.values[20].sum() - 99146628 ) < 1\n",
    "assert (sals['OAK'].sum() - 30171483) < 1"
   ]
  },
  {
   "cell_type": "code",
   "execution_count": null,
   "metadata": {},
   "outputs": [],
   "source": [
    "#\n",
    "# Plot your solution assuming it passes the tests\n",
    "#\n",
    "sals.plot(kind='bar', stacked=True, legend = False, figsize=(8,4))\n",
    "plt.legend(loc='right', bbox_to_anchor=(1.5, 0.5));"
   ]
  },
  {
   "cell_type": "markdown",
   "metadata": {},
   "source": [
    "## Problem 4c - What's up with Oakland? [ 10pts ]\n",
    "\n",
    "In this problem, you're going to produce three scatter plots using the `Teams.csv` and `Salaries.csv` data to confirm the intuition that the data science approach that Oakland adopted changed their effiency (wins per dollar spent).\n",
    "\n",
    "To do this, you're going to produce a [scatter plot](http://pandas.pydata.org/pandas-docs/stable/visualization.html#scatter-plot) of the paytaoll (y-axis) *vs* the number of Wins (x-axis) for the years 1998, 2003 and 2013. The payroll is the total salary of the team.\n",
    "\n",
    "The plot for 1998 should look like ![this scatter plot](bball-scatter-1998.png)\n",
    "\n",
    "In this example, each dot represents the wins *vs* payroll for the different teams. The red dot indicates the data for Oakland.\n",
    "\n",
    "Again, this problem is best tackled using `groupby`. It's also useful to create a new DataFrame merging only the needed data from `Teams` and `Salaries` for a specific year. You may also want to review accessing specific values using `loc` in order to pull out the data for Oakland (OAK). You should produce 3 plots, one each for 1998, 2003 and 2013. From the plots, you'll see that Oakland moves from being a cheap losing team to a cheap winning team. "
   ]
  },
  {
   "cell_type": "code",
   "execution_count": null,
   "metadata": {
    "deletable": false,
    "nbgrader": {
     "checksum": "084fd241e904e7d4dce2b376d976ba2c",
     "grade": true,
     "grade_id": "cell-d29ffe27503d12a0",
     "locked": false,
     "points": 10,
     "schema_version": 1,
     "solution": true
    }
   },
   "outputs": [],
   "source": [
    "# your code here\n"
   ]
  }
 ],
 "metadata": {
  "kernelspec": {
   "display_name": "Python 3 (ipykernel)",
   "language": "python",
   "name": "python3"
  },
  "language_info": {
   "codemirror_mode": {
    "name": "ipython",
    "version": 3
   },
   "file_extension": ".py",
   "mimetype": "text/x-python",
   "name": "python",
   "nbconvert_exporter": "python",
   "pygments_lexer": "ipython3",
   "version": "3.10.8"
  }
 },
 "nbformat": 4,
 "nbformat_minor": 4
}
